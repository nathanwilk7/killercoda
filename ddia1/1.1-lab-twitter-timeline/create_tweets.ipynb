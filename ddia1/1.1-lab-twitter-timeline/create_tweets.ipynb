{
 "cells": [
  {
   "cell_type": "code",
   "execution_count": 1,
   "id": "3a398ab0",
   "metadata": {},
   "outputs": [],
   "source": [
    "import pandas as pd"
   ]
  },
  {
   "cell_type": "code",
   "execution_count": 2,
   "id": "e60272c5",
   "metadata": {},
   "outputs": [],
   "source": [
    "df = pd.read_csv('user_comments_200k.csv')"
   ]
  },
  {
   "cell_type": "code",
   "execution_count": 3,
   "id": "02f1d6a8",
   "metadata": {},
   "outputs": [],
   "source": [
    "all_usernames = list(set(df.username))"
   ]
  },
  {
   "cell_type": "code",
   "execution_count": 4,
   "id": "08c2975c",
   "metadata": {},
   "outputs": [],
   "source": [
    "all_tweets = list(df.comment)"
   ]
  },
  {
   "cell_type": "code",
   "execution_count": 5,
   "id": "d0610110",
   "metadata": {},
   "outputs": [],
   "source": [
    "NUM_USERS = 2000\n",
    "NUM_FOLLOWS_PER_USER = 1000\n",
    "NUM_TWEETS_PER_USER = 300\n",
    "MAX_TWEET_LEN = 100\n",
    "SQLITE_FILEPATH = 'lab/benchmark.sqlite'"
   ]
  },
  {
   "cell_type": "code",
   "execution_count": 6,
   "id": "12c33910",
   "metadata": {},
   "outputs": [],
   "source": [
    "import os\n",
    "\n",
    "os.rename(SQLITE_FILEPATH, SQLITE_FILEPATH + '.bak')"
   ]
  },
  {
   "cell_type": "code",
   "execution_count": 7,
   "id": "9286c707",
   "metadata": {},
   "outputs": [],
   "source": [
    "import sqlite3\n",
    "\n",
    "# Connect to the SQLite database (or create it if it doesn't exist)\n",
    "conn = sqlite3.connect(SQLITE_FILEPATH)\n",
    "\n",
    "# Create a cursor object\n",
    "c = conn.cursor()\n",
    "\n",
    "# Create tables\n",
    "c.execute('''\n",
    "create table users (\n",
    "  id integer primary key,\n",
    "  username text unique\n",
    ");\n",
    "''')\n",
    "\n",
    "c.execute('''\n",
    "create table tweets (\n",
    "  id integer primary key,\n",
    "  poster_id integer references users(id),\n",
    "  content text,\n",
    "  post_time integer\n",
    ");\n",
    "''')\n",
    "\n",
    "c.execute('''\n",
    "create table follows (\n",
    "  follower_id integer references users(id),\n",
    "  followee_id integer references users(id)\n",
    ");\n",
    "''')\n",
    "\n",
    "c.execute('''\n",
    "create table timelines (\n",
    "  username text unique references users(username), \n",
    "  timeline_json text\n",
    ");\n",
    "''')\n",
    "\n",
    "# Commit the changes\n",
    "conn.commit()"
   ]
  },
  {
   "cell_type": "code",
   "execution_count": 8,
   "id": "00827706",
   "metadata": {},
   "outputs": [],
   "source": [
    "usernames = all_usernames[:NUM_USERS]"
   ]
  },
  {
   "cell_type": "code",
   "execution_count": 9,
   "id": "254c7170",
   "metadata": {},
   "outputs": [],
   "source": [
    "# Insert usernames into the table\n",
    "for username in usernames:\n",
    "    c.execute(\n",
    "'''\n",
    "INSERT INTO users (username) VALUES (?);\n",
    "''',\n",
    "        (username,)\n",
    "    )\n",
    "        \n",
    "conn.commit()"
   ]
  },
  {
   "cell_type": "code",
   "execution_count": 10,
   "id": "f4e72096",
   "metadata": {},
   "outputs": [],
   "source": [
    "# Execute the SELECT query\n",
    "c.execute(\"SELECT DISTINCT id FROM users\")\n",
    "\n",
    "# Fetch all the rows\n",
    "rows = c.fetchall()\n",
    "\n",
    "user_ids = []\n",
    "for row in rows:\n",
    "    user_ids.append(row[0])"
   ]
  },
  {
   "cell_type": "code",
   "execution_count": 11,
   "id": "0e615c44",
   "metadata": {},
   "outputs": [],
   "source": [
    "import random\n",
    "\n",
    "for user_id in user_ids:\n",
    "    follower_ids = random.sample(user_ids, k=NUM_FOLLOWS_PER_USER)\n",
    "    for follower_id in follower_ids:\n",
    "        c.execute(\n",
    "'''\n",
    "INSERT INTO follows (follower_id, followee_id) VALUES (?, ?);\n",
    "''',\n",
    "        (follower_id, user_id)\n",
    ")\n",
    "        \n",
    "conn.commit()"
   ]
  },
  {
   "cell_type": "code",
   "execution_count": 12,
   "id": "2317cfdc",
   "metadata": {},
   "outputs": [],
   "source": [
    "for user_id in user_ids:\n",
    "    for _ in range(NUM_TWEETS_PER_USER):\n",
    "        c.execute(\n",
    "'''\n",
    "INSERT INTO tweets (poster_id, content, post_time) VALUES (?, ?, abs(random() % 1680750000))\n",
    "''',\n",
    "            (user_id, random.choice(all_tweets)[:MAX_TWEET_LEN])\n",
    ")\n",
    "    \n",
    "    conn.commit()"
   ]
  },
  {
   "cell_type": "code",
   "execution_count": 13,
   "id": "e8360b82",
   "metadata": {},
   "outputs": [],
   "source": [
    "c.execute(\n",
    "'''\n",
    "insert into timelines\n",
    "with timeline_subquery as (\n",
    "  select\n",
    "  users.username,\n",
    "  json_object(\n",
    "    'tweet_id', tweets.id, \n",
    "    'poster_id', tweets.poster_id, \n",
    "    'content', tweets.content, \n",
    "    'post_time', tweets.post_time) timeline_json,\n",
    "  row_number() over(partition by users.username order by tweets.post_time desc) AS rn\n",
    "  from tweets\n",
    "  join follows on follows.followee_id = tweets.poster_id\n",
    "  join users on users.id = follows.follower_id\n",
    ")\n",
    "select username, json_group_array(timeline_json)\n",
    "from timeline_subquery\n",
    "where rn <= 10\n",
    "group by username;\n",
    "'''\n",
    ")\n",
    "    \n",
    "conn.commit()"
   ]
  },
  {
   "cell_type": "code",
   "execution_count": 21,
   "id": "95b0e4b0",
   "metadata": {},
   "outputs": [],
   "source": [
    "usernames_for_insert = usernames[:NUM_FOLLOWS_PER_USER]\n",
    "updates = []\n",
    "for u in usernames_for_insert:\n",
    "    updates.append(f\"update timelines set timeline_json = json_insert(timeline_json, '$[#]', json_object('tweet_id', abs(random() % 2000000), 'poster_id', abs(random() % 2000), 'content', cast(abs(random()) as text) || 'more content', 'post_time', abs(random() % 1680750000))) where username = '{u}';\")\n",
    "updates_str = '\\n'.join(updates)\n",
    "insert_write_sql = f\"\"\"\n",
    "begin transaction;\n",
    "drop table if exists start_time;\n",
    "create temp table start_time as SELECT CAST((julianday('now') - 2440587.5)*86400000 AS INTEGER) t;\n",
    "{updates_str}\n",
    "select '*** END TIME', round(((julianday('now') - 2440587.5)*86400000.0 - start_time.t) / 1000.0, 3) time_ms from start_time;\n",
    "commit;\n",
    "\"\"\""
   ]
  },
  {
   "cell_type": "code",
   "execution_count": 24,
   "id": "eadbeaa1",
   "metadata": {},
   "outputs": [],
   "source": [
    "os.rename('lab/insert_timeline_on_write.sql', 'lab/insert_timeline_on_write.sql.bak')\n",
    "\n",
    "with open('lab/insert_timeline_on_write.sql', 'w') as w:\n",
    "    w.write(insert_write_sql)"
   ]
  },
  {
   "cell_type": "code",
   "execution_count": 25,
   "id": "7a3cd963",
   "metadata": {},
   "outputs": [],
   "source": [
    "# Close the connection\n",
    "conn.close()"
   ]
  },
  {
   "cell_type": "code",
   "execution_count": null,
   "id": "9ff43cf9",
   "metadata": {},
   "outputs": [],
   "source": []
  }
 ],
 "metadata": {
  "kernelspec": {
   "display_name": "Python 3 (ipykernel)",
   "language": "python",
   "name": "python3"
  },
  "language_info": {
   "codemirror_mode": {
    "name": "ipython",
    "version": 3
   },
   "file_extension": ".py",
   "mimetype": "text/x-python",
   "name": "python",
   "nbconvert_exporter": "python",
   "pygments_lexer": "ipython3",
   "version": "3.9.13"
  }
 },
 "nbformat": 4,
 "nbformat_minor": 5
}
